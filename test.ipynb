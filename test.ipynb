{
  "nbformat": 4,
  "nbformat_minor": 0,
  "metadata": {
    "colab": {
      "provenance": [],
      "authorship_tag": "ABX9TyPFQ8K4TWbj7uimsiAVcJhB",
      "include_colab_link": true
    },
    "kernelspec": {
      "name": "python3",
      "display_name": "Python 3"
    },
    "language_info": {
      "name": "python"
    }
  },
  "cells": [
    {
      "cell_type": "markdown",
      "metadata": {
        "id": "view-in-github",
        "colab_type": "text"
      },
      "source": [
        "<a href=\"https://colab.research.google.com/github/AlibaNaqvi21/test2/blob/main/test.ipynb\" target=\"_parent\"><img src=\"https://colab.research.google.com/assets/colab-badge.svg\" alt=\"Open In Colab\"/></a>"
      ]
    },
    {
      "cell_type": "code",
      "execution_count": 1,
      "metadata": {
        "colab": {
          "base_uri": "https://localhost:8080/"
        },
        "id": "FJGYi4X6AdGa",
        "outputId": "9fb8fcaa-c572-4231-9c54-2956a9454ff8"
      },
      "outputs": [
        {
          "output_type": "stream",
          "name": "stdout",
          "text": [
            "Hello, world!\n"
          ]
        }
      ],
      "source": [
        "# prompt: write a print statement\n",
        "\n",
        "print(\"Hello, world!\")\n",
        "\n",
        "\n"
      ]
    },
    {
      "cell_type": "code",
      "source": [
        "# prompt: table of 2\n",
        "\n",
        "print(\"Hello, world!\")\n",
        "\n",
        "# Table of 2\n",
        "for i in range(1, 11):\n",
        "  print(f\"2 x {i} = {2 * i}\")\n"
      ],
      "metadata": {
        "id": "Wpwq4fgEDonC"
      },
      "execution_count": null,
      "outputs": []
    }
  ]
}